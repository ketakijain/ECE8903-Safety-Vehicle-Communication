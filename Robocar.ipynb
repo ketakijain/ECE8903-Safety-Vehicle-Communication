{
 "cells": [
  {
   "cell_type": "code",
   "execution_count": 46,
   "id": "e5e2dc76",
   "metadata": {},
   "outputs": [],
   "source": [
    "import numpy as np\n",
    "import math"
   ]
  },
  {
   "cell_type": "code",
   "execution_count": null,
   "id": "2e518c62",
   "metadata": {},
   "outputs": [],
   "source": []
  },
  {
   "cell_type": "code",
   "execution_count": 51,
   "id": "39380807",
   "metadata": {},
   "outputs": [],
   "source": [
    "class robocar:\n",
    "    \n",
    "    def __init__(self, x,y, startdir):\n",
    "        self._myPrevpos = [x,y]\n",
    "        self._myCurrpos = [x,y]\n",
    "        self._mydir = startdir\n",
    "        \n",
    "    def my_distance(self,pos_senderx, pos_sendery): \n",
    "        #relative_dist= np.linalg.norm(self._myCurrpos - [pos_senderx, pos_sendery])\n",
    "        relative_dist = math.dist(self._myCurrpos, [pos_senderx, pos_sendery])\n",
    "        if(relative_dist<10):\n",
    "            return 1\n",
    "        else:\n",
    "            return 0\n",
    "        \n",
    "    def move():\n",
    "    \n",
    "    def my_direction(dir_sender):\n",
    "        #if(_mydir)\n",
    "        \n",
    "        "
   ]
  },
  {
   "cell_type": "code",
   "execution_count": 52,
   "id": "19d8ab92",
   "metadata": {},
   "outputs": [
    {
     "data": {
      "text/plain": [
       "1"
      ]
     },
     "execution_count": 52,
     "metadata": {},
     "output_type": "execute_result"
    }
   ],
   "source": [
    "r1=robocar(1,1,1)\n",
    "r1._myCurrpos\n",
    "r1.my_distance(2,2)"
   ]
  },
  {
   "cell_type": "code",
   "execution_count": null,
   "id": "96c45334",
   "metadata": {},
   "outputs": [],
   "source": []
  }
 ],
 "metadata": {
  "kernelspec": {
   "display_name": "Python 3 (ipykernel)",
   "language": "python",
   "name": "python3"
  },
  "language_info": {
   "codemirror_mode": {
    "name": "ipython",
    "version": 3
   },
   "file_extension": ".py",
   "mimetype": "text/x-python",
   "name": "python",
   "nbconvert_exporter": "python",
   "pygments_lexer": "ipython3",
   "version": "3.9.13"
  }
 },
 "nbformat": 4,
 "nbformat_minor": 5
}
