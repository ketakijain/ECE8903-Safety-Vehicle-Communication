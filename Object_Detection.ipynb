{
 "cells": [
  {
   "cell_type": "code",
   "execution_count": 2,
   "id": "f65fbd6a",
   "metadata": {},
   "outputs": [],
   "source": [
    "import torch"
   ]
  },
  {
   "cell_type": "code",
   "execution_count": 4,
   "id": "2f55a977",
   "metadata": {},
   "outputs": [],
   "source": [
    "import cv2\n",
    "import PIL\n",
    "from torch import hub\n"
   ]
  },
  {
   "cell_type": "code",
   "execution_count": 5,
   "id": "d7081c66",
   "metadata": {},
   "outputs": [],
   "source": [
    "stream = cv2.VideoCapture(0)"
   ]
  },
  {
   "cell_type": "code",
   "execution_count": 4,
   "id": "7e238780",
   "metadata": {},
   "outputs": [
    {
     "data": {
      "text/plain": [
       "< cv2.VideoCapture 000001CCA805A370>"
      ]
     },
     "execution_count": 4,
     "metadata": {},
     "output_type": "execute_result"
    }
   ],
   "source": [
    "stream"
   ]
  },
  {
   "cell_type": "code",
   "execution_count": 6,
   "id": "f6c223d6",
   "metadata": {},
   "outputs": [
    {
     "name": "stderr",
     "output_type": "stream",
     "text": [
      "Using cache found in C:\\Users\\Kay_two/.cache\\torch\\hub\\ultralytics_yolov5_master\n",
      "YOLOv5  2022-11-1 Python-3.9.13 torch-1.13.0 CPU\n",
      "\n",
      "Downloading https://github.com/ultralytics/yolov5/releases/download/v6.2/yolov5s.pt to yolov5s.pt...\n"
     ]
    },
    {
     "data": {
      "application/vnd.jupyter.widget-view+json": {
       "model_id": "d5f69dbf9c9a40c3af71c5edeaa2190e",
       "version_major": 2,
       "version_minor": 0
      },
      "text/plain": [
       "  0%|          | 0.00/14.1M [00:00<?, ?B/s]"
      ]
     },
     "metadata": {},
     "output_type": "display_data"
    },
    {
     "name": "stderr",
     "output_type": "stream",
     "text": [
      "\n",
      "Fusing layers... \n",
      "YOLOv5s summary: 213 layers, 7225885 parameters, 0 gradients\n",
      "Adding AutoShape... \n"
     ]
    }
   ],
   "source": [
    "#from torch import hub # Hub contains other models like FasterRCNN\n",
    "model = torch.hub.load( \\\n",
    "                      'ultralytics/yolov5', \\\n",
    "                      'yolov5s', \\\n",
    "                      pretrained=True)"
   ]
  },
  {
   "cell_type": "code",
   "execution_count": 7,
   "id": "846c7769",
   "metadata": {},
   "outputs": [],
   "source": [
    "\"\"\"\n",
    "The function below identifies the device which is availabe to make the prediction and uses it to load and infer the frame. Once it has results it will extract the labels and cordinates(Along with scores) for each object detected in the frame.\n",
    "\"\"\"\n",
    "def score_frame(frame, model):\n",
    "    device = 'cuda' if torch.cuda.is_available() else 'cpu'\n",
    "    model.to(device)\n",
    "    frame = [torch.tensor(frame)]\n",
    "    results = self.model(frame)\n",
    "    labels = results.xyxyn[0][:, -1].numpy()\n",
    "    cord = results.xyxyn[0][:, :-1].numpy()\n",
    "    return labels, cord"
   ]
  },
  {
   "cell_type": "code",
   "execution_count": 8,
   "id": "5f246c46",
   "metadata": {},
   "outputs": [],
   "source": [
    "\"\"\"\n",
    "The function below takes the results and the frame as input and plots boxes over all the objects which have a score higer than our threshold.\n",
    "\"\"\"\n",
    "def plot_boxes(self, results, frame):\n",
    "    labels, cord = results\n",
    "    n = len(labels)\n",
    "    x_shape, y_shape = frame.shape[1], frame.shape[0]\n",
    "    for i in range(n):\n",
    "        row = cord[i]\n",
    "        # If score is less than 0.2 we avoid making a prediction.\n",
    "        if row[4] < 0.2: \n",
    "            continue\n",
    "        x1 = int(row[0]*x_shape)\n",
    "        y1 = int(row[1]*y_shape)\n",
    "        x2 = int(row[2]*x_shape)\n",
    "        y2 = int(row[3]*y_shape)\n",
    "        bgr = (0, 255, 0) # color of the box\n",
    "        classes = self.model.names # Get the name of label index\n",
    "        label_font = cv2.FONT_HERSHEY_SIMPLEX #Font for the label.\n",
    "        cv2.rectangle(frame, \\\n",
    "                      (x1, y1), (x2, y2), \\\n",
    "                       bgr, 2) #Plot the boxes\n",
    "        cv2.putText(frame,\\\n",
    "                    classes[labels[i]], \\\n",
    "                    (x1, y1), \\\n",
    "                    label_font, 0.9, bgr, 2) #Put a label over box.\n",
    "        return frame"
   ]
  },
  {
   "cell_type": "code",
   "execution_count": 10,
   "id": "24dbcc3a",
   "metadata": {},
   "outputs": [],
   "source": [
    "\"\"\"\n",
    "The Function below oracestrates the entire operation and performs the real-time parsing for video stream.\n",
    "\"\"\"\n",
    "def __call__(self):\n",
    "    player = cv2.VideoCapture(0)#self.get_video_stream() #Get your video stream.\n",
    "    assert player.isOpened() # Make sure that their is a stream. \n",
    "    #Below code creates a new video writer object to write our\n",
    "    #output stream.\n",
    "    x_shape = int(player.get(cv2.CAP_PROP_FRAME_WIDTH))\n",
    "    y_shape = int(player.get(cv2.CAP_PROP_FRAME_HEIGHT))\n",
    "    four_cc = cv2.VideoWriter_fourcc(*\"MJPG\") #Using MJPEG codex\n",
    "    out = cv2.VideoWriter(out_file, four_cc, 20, \\\n",
    "                          (x_shape, y_shape)) \n",
    "    ret, frame = player.read() # Read the first frame.\n",
    "    while rect: # Run until stream is out of frames\n",
    "        start_time = time() # We would like to measure the FPS.\n",
    "        results = self.score_frame(frame) # Score the Frame\n",
    "        frame = self.plot_boxes(results, frame) # Plot the boxes.\n",
    "        end_time = time()\n",
    "        fps = 1/np.round(end_time - start_time, 3) #Measure the FPS.\n",
    "        print(f\"Frames Per Second : {fps}\")\n",
    "        out.write(frame) # Write the frame onto the output.\n",
    "        ret, frame = player.read() # Read next frame."
   ]
  },
  {
   "cell_type": "code",
   "execution_count": null,
   "id": "528f2c03",
   "metadata": {},
   "outputs": [],
   "source": []
  }
 ],
 "metadata": {
  "kernelspec": {
   "display_name": "Python 3 (ipykernel)",
   "language": "python",
   "name": "python3"
  },
  "language_info": {
   "codemirror_mode": {
    "name": "ipython",
    "version": 3
   },
   "file_extension": ".py",
   "mimetype": "text/x-python",
   "name": "python",
   "nbconvert_exporter": "python",
   "pygments_lexer": "ipython3",
   "version": "3.9.13"
  }
 },
 "nbformat": 4,
 "nbformat_minor": 5
}
