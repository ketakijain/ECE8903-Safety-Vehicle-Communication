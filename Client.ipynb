{
 "cells": [
  {
   "cell_type": "code",
   "execution_count": 6,
   "id": "d94531f5",
   "metadata": {},
   "outputs": [],
   "source": [
    "import sys\n",
    "import socket\n",
    "import selectors\n",
    "import types"
   ]
  },
  {
   "cell_type": "code",
   "execution_count": 5,
   "id": "09c83f5f",
   "metadata": {},
   "outputs": [
    {
     "name": "stdout",
     "output_type": "stream",
     "text": [
      "Received b'Hello, world'\n"
     ]
    }
   ],
   "source": [
    "#### echo-client.py\n",
    "\n",
    "\n",
    "HOST = \"127.0.0.1\"  # The server's hostname or IP address\n",
    "PORT = 40000  # The port used by the server\n",
    "\n",
    "with socket.socket(socket.AF_INET, socket.SOCK_STREAM) as s:\n",
    "    s.connect((HOST, PORT))\n",
    "    s.sendall(b\"Hello, world\")\n",
    "    data = s.recv(1024)\n",
    "\n",
    "print(f\"Received {data!r}\")"
   ]
  },
  {
   "cell_type": "code",
   "execution_count": 7,
   "id": "87d7c384",
   "metadata": {},
   "outputs": [],
   "source": [
    "sel = selectors.DefaultSelector()\n",
    "messages = [b\"Message 1 from client.\", b\"Message 2 from client.\"]"
   ]
  },
  {
   "cell_type": "code",
   "execution_count": 8,
   "id": "9413ff1e",
   "metadata": {},
   "outputs": [],
   "source": [
    "def start_connections(host, port, num_conns):\n",
    "    server_addr = (host, port)\n",
    "    for i in range(0, num_conns):\n",
    "        connid = i + 1\n",
    "        print(f\"Starting connection {connid} to {server_addr}\")\n",
    "        sock = socket.socket(socket.AF_INET, socket.SOCK_STREAM)\n",
    "        sock.setblocking(False)\n",
    "        sock.connect_ex(server_addr)\n",
    "        events = selectors.EVENT_READ | selectors.EVENT_WRITE\n",
    "        data = types.SimpleNamespace(\n",
    "            connid=connid,\n",
    "            msg_total=sum(len(m) for m in messages),\n",
    "            recv_total=0,\n",
    "            messages=messages.copy(),\n",
    "            outb=b\"\",\n",
    "        )\n",
    "        sel.register(sock, events, data=data)"
   ]
  },
  {
   "cell_type": "code",
   "execution_count": null,
   "id": "b1a7d3d1",
   "metadata": {},
   "outputs": [],
   "source": []
  }
 ],
 "metadata": {
  "kernelspec": {
   "display_name": "Python 3 (ipykernel)",
   "language": "python",
   "name": "python3"
  },
  "language_info": {
   "codemirror_mode": {
    "name": "ipython",
    "version": 3
   },
   "file_extension": ".py",
   "mimetype": "text/x-python",
   "name": "python",
   "nbconvert_exporter": "python",
   "pygments_lexer": "ipython3",
   "version": "3.9.13"
  }
 },
 "nbformat": 4,
 "nbformat_minor": 5
}
