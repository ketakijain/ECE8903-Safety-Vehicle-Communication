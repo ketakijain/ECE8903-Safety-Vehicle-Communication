{
 "cells": [
  {
   "cell_type": "code",
   "execution_count": 1,
   "id": "b8375205",
   "metadata": {},
   "outputs": [],
   "source": [
    "import socket"
   ]
  },
  {
   "cell_type": "code",
   "execution_count": 5,
   "id": "62337b6f",
   "metadata": {},
   "outputs": [],
   "source": [
    "#for multiple concurrent robocars\n",
    "import sys\n",
    "import selectors\n",
    "import types"
   ]
  },
  {
   "cell_type": "code",
   "execution_count": 6,
   "id": "eebfc080",
   "metadata": {},
   "outputs": [],
   "source": [
    "sel = selectors.DefaultSelector()"
   ]
  },
  {
   "cell_type": "code",
   "execution_count": 8,
   "id": "73a2bcf5",
   "metadata": {},
   "outputs": [],
   "source": [
    "PORT = 40000  # Port to listen on (non-privileged ports are > 1023)\n",
    "HOST = \"127.0.0.1\"  # Standard loopback interface address (localhost)"
   ]
  },
  {
   "cell_type": "code",
   "execution_count": 3,
   "id": "21a71f29",
   "metadata": {},
   "outputs": [
    {
     "name": "stdout",
     "output_type": "stream",
     "text": [
      "Connected by ('127.0.0.1', 60903)\n"
     ]
    }
   ],
   "source": [
    "with socket.socket(socket.AF_INET, socket.SOCK_STREAM) as s:\n",
    "    s.bind((HOST, PORT))\n",
    "    s.listen()\n",
    "    conn, addr = s.accept()\n",
    "    with conn:\n",
    "        print(f\"Connected by {addr}\")\n",
    "        while True:\n",
    "            data = conn.recv(1024)\n",
    "            if not data:\n",
    "                break\n",
    "            conn.sendall(data)"
   ]
  },
  {
   "cell_type": "code",
   "execution_count": 9,
   "id": "becc1409",
   "metadata": {},
   "outputs": [
    {
     "name": "stdout",
     "output_type": "stream",
     "text": [
      "Listening on ('127.0.0.1', 40000)\n"
     ]
    },
    {
     "data": {
      "text/plain": [
       "SelectorKey(fileobj=<socket.socket fd=1372, family=AddressFamily.AF_INET, type=SocketKind.SOCK_STREAM, proto=0, laddr=('127.0.0.1', 40000)>, fd=1372, events=1, data=None)"
      ]
     },
     "execution_count": 9,
     "metadata": {},
     "output_type": "execute_result"
    }
   ],
   "source": [
    "lsock = socket.socket(socket.AF_INET, socket.SOCK_STREAM)\n",
    "lsock.bind((HOST, PORT))\n",
    "lsock.listen()\n",
    "print(f\"Listening on {(HOST, PORT)}\")\n",
    "lsock.setblocking(False)\n",
    "sel.register(lsock, selectors.EVENT_READ, data=None)"
   ]
  },
  {
   "cell_type": "code",
   "execution_count": 10,
   "id": "9c45a0e9",
   "metadata": {},
   "outputs": [],
   "source": [
    "def accept_wrapper(sock):\n",
    "    conn, addr = sock.accept()  # Should be ready to read\n",
    "    print(f\"Accepted connection from {addr}\")\n",
    "    conn.setblocking(False)\n",
    "    data = types.SimpleNamespace(addr=addr, inb=b\"\", outb=b\"\")\n",
    "    events = selectors.EVENT_READ | selectors.EVENT_WRITE\n",
    "    sel.register(conn, events, data=data)"
   ]
  },
  {
   "cell_type": "code",
   "execution_count": 11,
   "id": "87190ece",
   "metadata": {},
   "outputs": [],
   "source": [
    "def service_connection(key, mask):\n",
    "    sock = key.fileobj\n",
    "    data = key.data\n",
    "    if mask & selectors.EVENT_READ:\n",
    "        recv_data = sock.recv(1024)  # Should be ready to read\n",
    "        if recv_data:\n",
    "            data.outb += recv_data\n",
    "        else:\n",
    "            print(f\"Closing connection to {data.addr}\")\n",
    "            sel.unregister(sock)\n",
    "            sock.close()\n",
    "    if mask & selectors.EVENT_WRITE:\n",
    "        if data.outb:\n",
    "            print(f\"Echoing {data.outb!r} to {data.addr}\")\n",
    "            sent = sock.send(data.outb)  # Should be ready to write\n",
    "            data.outb = data.outb[sent:]"
   ]
  },
  {
   "cell_type": "code",
   "execution_count": null,
   "id": "caedd6bf",
   "metadata": {},
   "outputs": [],
   "source": [
    "try:\n",
    "    while True:\n",
    "        events = sel.select(timeout=None)\n",
    "        for key, mask in events:\n",
    "            if key.data is None:\n",
    "                accept_wrapper(key.fileobj)\n",
    "            else:\n",
    "                service_connection(key, mask)\n",
    "except KeyboardInterrupt:\n",
    "    print(\"Caught keyboard interrupt, exiting\")\n",
    "finally:\n",
    "    sel.close()"
   ]
  }
 ],
 "metadata": {
  "kernelspec": {
   "display_name": "Python 3 (ipykernel)",
   "language": "python",
   "name": "python3"
  },
  "language_info": {
   "codemirror_mode": {
    "name": "ipython",
    "version": 3
   },
   "file_extension": ".py",
   "mimetype": "text/x-python",
   "name": "python",
   "nbconvert_exporter": "python",
   "pygments_lexer": "ipython3",
   "version": "3.9.13"
  }
 },
 "nbformat": 4,
 "nbformat_minor": 5
}
